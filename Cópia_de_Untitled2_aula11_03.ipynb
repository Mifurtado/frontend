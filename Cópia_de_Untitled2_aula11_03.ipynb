{
  "nbformat": 4,
  "nbformat_minor": 0,
  "metadata": {
    "colab": {
      "provenance": [],
      "authorship_tag": "ABX9TyP8X6MtUSTjhlAE158h0Y2a",
      "include_colab_link": true
    },
    "kernelspec": {
      "name": "python3",
      "display_name": "Python 3"
    },
    "language_info": {
      "name": "python"
    }
  },
  "cells": [
    {
      "cell_type": "markdown",
      "metadata": {
        "id": "view-in-github",
        "colab_type": "text"
      },
      "source": [
        "<a href=\"https://colab.research.google.com/github/Mifurtado/frontend/blob/main/C%C3%B3pia_de_Untitled2_aula11_03.ipynb\" target=\"_parent\"><img src=\"https://colab.research.google.com/assets/colab-badge.svg\" alt=\"Open In Colab\"/></a>"
      ]
    },
    {
      "cell_type": "code",
      "execution_count": null,
      "metadata": {
        "colab": {
          "base_uri": "https://localhost:8080/"
        },
        "id": "Ge_FFb_bZGsn",
        "outputId": "a7833ec3-043d-4aa4-ad01-6e2359fbf25a"
      },
      "outputs": [
        {
          "output_type": "stream",
          "name": "stdout",
          "text": [
            "Depósito de R$ 200.00 realizado com sucesso na conta 1020!\n",
            "Saldo da conta 1020: R$ 500.00\n",
            "Saque de R$ 150.00 realizado com sucesso na conta 2030!\n",
            "Saldo da conta 2030: R$ 250.00\n"
          ]
        }
      ],
      "source": [
        "class Conta:\n",
        "    def __init__(self, numero, saldo):\n",
        "        if saldo < 0:\n",
        "            raise ValueError(\"O saldo inicial não pode ser negativo.\")\n",
        "        self.numero = numero\n",
        "        self.saldo = saldo\n",
        "\n",
        "    def depositar(self, valor):\n",
        "        if valor > 0:\n",
        "            self.saldo += valor\n",
        "            print(f\"Depósito de R$ {valor:.2f} realizado com sucesso na conta {self.numero}!\")\n",
        "        else:\n",
        "            print(\"O valor do depósito deve ser positivo.\")\n",
        "\n",
        "    def sacar(self, valor):\n",
        "        if valor > 0:\n",
        "            if self.saldo >= valor:\n",
        "                self.saldo -= valor\n",
        "                print(f\"Saque de R$ {valor:.2f} realizado com sucesso na conta {self.numero}!\")\n",
        "            else:\n",
        "                print(\"Saldo insuficiente para realizar o saque.\")\n",
        "        else:\n",
        "            print(\"O valor do saque deve ser positivo.\")\n",
        "\n",
        "    def mostrar_saldo(self):\n",
        "        print(f\"Saldo da conta {self.numero}: R$ {self.saldo:.2f}\")\n",
        "\n",
        "\n",
        "# Testando as contas\n",
        "conta1 = Conta(1020, 300)\n",
        "conta2 = Conta(2030, 400)\n",
        "\n",
        "conta1.depositar(200)\n",
        "conta1.mostrar_saldo()\n",
        "\n",
        "conta2.sacar(150)\n",
        "conta2.mostrar_saldo()\n",
        "\n",
        "\n",
        "\n",
        "\n"
      ]
    }
  ]
}